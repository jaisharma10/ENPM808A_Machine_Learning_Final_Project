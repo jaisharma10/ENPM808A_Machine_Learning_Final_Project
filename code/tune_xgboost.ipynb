{
 "cells": [
  {
   "attachments": {},
   "cell_type": "markdown",
   "metadata": {},
   "source": [
    "## Import Libraries "
   ]
  },
  {
   "cell_type": "code",
   "execution_count": 18,
   "metadata": {},
   "outputs": [],
   "source": [
    "import numpy as np\n",
    "import pandas as pd\n",
    "import matplotlib.pyplot as plt"
   ]
  },
  {
   "cell_type": "code",
   "execution_count": 19,
   "metadata": {},
   "outputs": [],
   "source": [
    "from sklearn.utils import shuffle\n",
    "from sklearn.preprocessing import StandardScaler\n",
    "from sklearn.metrics import mean_squared_error, mean_absolute_error\n",
    "from sklearn.metrics import r2_score\n",
    "from sklearn.model_selection import train_test_split"
   ]
  },
  {
   "attachments": {},
   "cell_type": "markdown",
   "metadata": {},
   "source": [
    "## Import Datasets"
   ]
  },
  {
   "cell_type": "code",
   "execution_count": 20,
   "metadata": {},
   "outputs": [],
   "source": [
    "# Import Training Data Set\n",
    "df_train_1 = pd.read_csv(r'Data\\Train\\Data_illustrated_CSV.csv')\n",
    "\n",
    "df_train_c2 = pd.read_csv(r'Data\\Train\\corridor_CSV\\July22_14.csv')                  \n",
    "df_train_c3 = pd.read_csv(r'Data\\Train\\corridor_CSV\\July22_16.csv')  \n",
    "df_train_c4 = pd.read_csv(r'Data\\Train\\corridor_CSV\\July22_16.csv')                  \n",
    "df_train_c5 = pd.read_csv(r'Data\\Train\\corridor_CSV\\July22_18.csv')                  \n",
    "df_train_c6 = pd.read_csv(r'Data\\Train\\corridor_CSV\\July22_20.csv')                  \n",
    "\n",
    "df_train_b1 = pd.read_csv(r'Data\\Train\\Open_Box_CSV_files\\Aug14_Box_2.csv')    \n",
    "df_train_b2 = pd.read_csv(r'Data\\Train\\Open_Box_CSV_files\\Aug14_Box_4.csv')    \n",
    "df_train_b3 = pd.read_csv(r'Data\\Train\\Open_Box_CSV_files\\Aug14_Box_7.csv')    \n",
    "df_train_b4 = pd.read_csv(r'Data\\Train\\Open_Box_CSV_files\\Aug14_Box_8.csv')    \n",
    "df_train_b5 = pd.read_csv(r'Data\\Train\\Open_Box_CSV_files\\Aug14_Box_9.csv')    \n",
    "df_train_b6 = pd.read_csv(r'Data\\Train\\Open_Box_CSV_files\\Aug14_Box_17.csv')    \n",
    "df_train_b7 = pd.read_csv(r'Data\\Train\\Open_Box_CSV_files\\Aug14_Box_18.csv')    \n",
    "\n",
    "df_train_11 = pd.read_csv(r'Data\\Train\\special_CSV\\Aug16_Box_special_1.csv')    \n",
    "\n",
    "# create datasets\n",
    "df_train_1.columns = df_train_c2.columns = df_train_c3.columns = df_train_c4.columns  = df_train_c5.columns\n",
    "df_train_b1.columns = df_train_b2.columns = df_train_b3.columns = df_train_b4.columns = df_train_b5.columns = df_train_b6.columns\n",
    "\n",
    "# ==============================================================================\n",
    "\n",
    "# Import Testing Data Set\n",
    "df_test_1 = pd.read_csv(r'Data\\Test\\Aug14_Box_g1.csv')\n",
    "df_test_2 = pd.read_csv(r'Data\\Test\\Aug14_Box_g2.csv')\n",
    "df_test_3 = pd.read_csv(r'Data\\Test\\Aug14_Box_3.csv')\n",
    "df_test_4 = pd.read_csv(r'Data\\Test\\Aug14_Box_5.csv')\n",
    "df_test_5 = pd.read_csv(r'Data\\Test\\Aug14_Box_11.csv')\n",
    "\n",
    "df_test_6 = pd.read_csv(r'Data\\Test\\July22_22.csv')\n",
    "df_test_7 = pd.read_csv(r'Data\\Test\\July22_33.csv')\n",
    "df_test_8 = pd.read_csv(r'Data\\Test\\July22_66.csv')\n",
    "\n",
    "# df_test_1.columns = df_test_2.columns =\n",
    "df_test_3.columns = df_test_4.columns = df_test_5.columns\n",
    "df_test_6.columns = df_test_7.columns = df_test_8.columns\n",
    "\n",
    "# =============================================================================="
   ]
  },
  {
   "attachments": {},
   "cell_type": "markdown",
   "metadata": {},
   "source": [
    "## Select Datasets"
   ]
  },
  {
   "cell_type": "code",
   "execution_count": 49,
   "metadata": {},
   "outputs": [],
   "source": [
    "# possible training set\n",
    "box_train = [df_train_b1, df_train_b2, df_train_b3, df_train_b4, df_train_b5, df_train_b6]\n",
    "corridor_train = [df_train_1, df_train_c2, df_train_c3,df_train_c4,df_train_c5]\n",
    "\n",
    "# possible test set\n",
    "box_test = [df_test_3, df_test_4]\n",
    "corridor_test =  [df_test_6, df_test_7]\n",
    "\n",
    "# ==================================================\n",
    "#                 Select Data Set\n",
    "# ==================================================\n",
    "df_train = box_train\n",
    "df_test = box_test\n",
    "# ==================================================\n",
    "# =================================================="
   ]
  },
  {
   "attachments": {},
   "cell_type": "markdown",
   "metadata": {},
   "source": [
    "## Training Data "
   ]
  },
  {
   "cell_type": "code",
   "execution_count": 50,
   "metadata": {},
   "outputs": [
    {
     "name": "stdout",
     "output_type": "stream",
     "text": [
      "==================================================================\n",
      " laser features shape -->  (81769, 18)\n",
      " total training features shape -->  (81769, 26)\n",
      " total training translation velocity predictions shape -->  (81769, 1)\n",
      " total training angular velocity predictions shape -->  (81769, 1)\n",
      "==================================================================\n"
     ]
    }
   ],
   "source": [
    "\n",
    "# Combine Training Set                 \n",
    "df_training = pd.concat(df_train, axis=0, ignore_index=True)\n",
    "\n",
    "# Shuffle Dataset\n",
    "df_training = shuffle(df_training)\n",
    "\n",
    "# Reduce Laser Data\n",
    "laser_df = pd.DataFrame()\n",
    "bins_sz = 15*4\n",
    "bin_list = np.arange(0,1080,bins_sz)\n",
    "for c in bin_list:    # loop every 40 columns\n",
    "    laser_df[c/bins_sz] = df_training.iloc[:,c:c+bins_sz].astype(float).mean(axis=1)\n",
    "laser_df.shape\n",
    "\n",
    "# Extract Useful Features [laser, local goal, pose]\n",
    "laser = np.array(laser_df)  \n",
    "local_goal = np.array(df_training)[:,1084:1088]                  \n",
    "pose = np.array(df_training)[:,1088:1092]                  \n",
    "features = np.concatenate((laser,local_goal,pose), axis=1)\n",
    "\n",
    "# Extract Predictions\n",
    "cmd_vel = np.array(df_training)[:,1092:]    \n",
    "\n",
    "# Initialize Training Set Inputs\n",
    "X_training = features\n",
    "y_training = cmd_vel\n",
    "y_training_vel = cmd_vel[:,0:1]\n",
    "y_training_ang = cmd_vel[:,1:]\n",
    "\n",
    "# Print Training Input Shapes\n",
    "print(\"==================================================================\")\n",
    "print(\" laser features shape --> \", laser.shape)  \n",
    "print(\" total training features shape --> \", X_training.shape)  \n",
    "print(\" total training translation velocity predictions shape --> \", y_training_vel.shape)  \n",
    "print(\" total training angular velocity predictions shape --> \", y_training_ang.shape) \n",
    "print(\"==================================================================\")"
   ]
  },
  {
   "attachments": {},
   "cell_type": "markdown",
   "metadata": {},
   "source": [
    "# Training / Validation Split"
   ]
  },
  {
   "cell_type": "code",
   "execution_count": 51,
   "metadata": {},
   "outputs": [
    {
     "name": "stdout",
     "output_type": "stream",
     "text": [
      "==================================================================\n",
      " training features shape -->  (61326, 26)\n",
      " training translation velocity predictions shape -->  (61326, 1)\n",
      " training angular velocity predictions shape -->  (61326, 1)\n",
      "==================================================================\n",
      " validation features shape -->  (20443, 26)\n",
      " validation translation velocity predictions shape -->  (20443, 1)\n",
      " validation angular velocity predictions shape -->  (20443, 1)\n",
      "==================================================================\n"
     ]
    }
   ],
   "source": [
    "\n",
    "X_train, X_val, y_train, y_val = train_test_split(X_training, y_training, test_size=0.25, random_state=1) # 0.25 x 0.8 = 0.2\n",
    "\n",
    "y_train_vel = y_train[:,0:1]\n",
    "y_train_ang = y_train[:,1:]\n",
    "\n",
    "y_val_vel = y_val[:,0:1]\n",
    "y_val_ang = y_val[:,1:]\n",
    "\n",
    "# Print Training Input Shapes\n",
    "print(\"==================================================================\")\n",
    "print(\" training features shape --> \", X_train.shape)  \n",
    "print(\" training translation velocity predictions shape --> \", y_train_vel.shape)  \n",
    "print(\" training angular velocity predictions shape --> \", y_train_ang.shape) \n",
    "print(\"==================================================================\")\n",
    "# Print Training Input Shapes\n",
    "print(\" validation features shape --> \", X_val.shape)  \n",
    "print(\" validation translation velocity predictions shape --> \", y_val_vel.shape)  \n",
    "print(\" validation angular velocity predictions shape --> \", y_val_ang.shape) \n",
    "print(\"==================================================================\")"
   ]
  },
  {
   "attachments": {},
   "cell_type": "markdown",
   "metadata": {},
   "source": [
    "# Testing Data"
   ]
  },
  {
   "cell_type": "code",
   "execution_count": 52,
   "metadata": {},
   "outputs": [
    {
     "name": "stdout",
     "output_type": "stream",
     "text": [
      "==================================================================\n",
      " test features shape -->  (26358, 26)\n",
      " test translation velocity predictions shape -->  (26358, 1)\n",
      " test angular velocity predictions shape -->  (26358, 1)\n",
      "==================================================================\n"
     ]
    }
   ],
   "source": [
    "df_test = pd.concat(df_test, axis=0, ignore_index=True)\n",
    "\n",
    "# Reduce Laser Data\n",
    "laser_df_test = pd.DataFrame()\n",
    "for c in bin_list:    # loop every 40 columns\n",
    "    laser_df_test[c/bins_sz] = df_test.iloc[:,c:c+bins_sz].astype(float).mean(axis=1)\n",
    "laser_df_test.shape\n",
    "                  \n",
    "# Extract Useful Features [laser, local goal, pose]\n",
    "laser = np.array(laser_df_test)  \n",
    "local_goal = np.array(df_test)[:,1084:1088]                  \n",
    "pose = np.array(df_test)[:,1088:1092]                  \n",
    "features = np.concatenate((laser,local_goal,pose), axis=1)\n",
    "\n",
    "# Extract Predictions\n",
    "cmd_vel = np.array(df_test)[:,1092:]  \n",
    "\n",
    "# Initialize Testing Set Inputs\n",
    "X_test = features\n",
    "y_test = cmd_vel\n",
    "y_test_vel = cmd_vel[:,0:1]\n",
    "y_test_ang = cmd_vel[:,1:]\n",
    "\n",
    "# Print Testing Input Shapes\n",
    "print(\"==================================================================\")\n",
    "print(\" test features shape --> \", X_test.shape)  \n",
    "print(\" test translation velocity predictions shape --> \", y_test_vel.shape)  \n",
    "print(\" test angular velocity predictions shape --> \", y_test_ang.shape) \n",
    "print(\"==================================================================\")\n"
   ]
  },
  {
   "attachments": {},
   "cell_type": "markdown",
   "metadata": {},
   "source": [
    "## Scale Training and Testing Data"
   ]
  },
  {
   "cell_type": "code",
   "execution_count": 61,
   "metadata": {},
   "outputs": [],
   "source": [
    "scale = StandardScaler()\n",
    "scale.fit(X_train)\n",
    "\n",
    "x_train_scaled = scale.transform(X_train)\n",
    "x_test_scaled =  scale.transform(X_test)\n",
    "x_val_scaled =  scale.transform(X_val)\n",
    "\n",
    "\n",
    "# Comment out to predict v and w together\n",
    "y_train = y_train_vel\n",
    "y_test = y_test_vel\n",
    "y_val = y_val_vel \n",
    "\n",
    "# Comment out to predict v and w together\n",
    "# y_train = y_train_ang\n",
    "# y_test = y_test_ang\n",
    "# y_val = y_val_ang "
   ]
  },
  {
   "attachments": {},
   "cell_type": "markdown",
   "metadata": {},
   "source": [
    "# XG Boost (Extreme Gradient Boosting))"
   ]
  },
  {
   "cell_type": "code",
   "execution_count": 62,
   "metadata": {},
   "outputs": [],
   "source": [
    "import xgboost as xg\n",
    "from sklearn.model_selection import train_test_split\n",
    "from sklearn.metrics import mean_squared_error, mean_absolute_error\n",
    "from sklearn.model_selection import RandomizedSearchCV"
   ]
  },
  {
   "attachments": {},
   "cell_type": "markdown",
   "metadata": {},
   "source": [
    "### Train Model "
   ]
  },
  {
   "cell_type": "code",
   "execution_count": 63,
   "metadata": {},
   "outputs": [
    {
     "name": "stdout",
     "output_type": "stream",
     "text": [
      "[19:35:20] WARNING: c:\\windows\\temp\\abs_557yfx631l\\croots\\recipe\\xgboost-split_1659548953302\\work\\src\\objective\\regression_obj.cu:188: reg:linear is now deprecated in favor of reg:squarederror.\n",
      "MSE train: 0.0281, test: 0.0474\n",
      "R^2 train: 0.7639, test: 0.6038\n"
     ]
    },
    {
     "data": {
      "text/plain": [
       "{'objective': 'reg:linear',\n",
       " 'base_score': 0.5,\n",
       " 'booster': 'gbtree',\n",
       " 'colsample_bylevel': 1,\n",
       " 'colsample_bynode': 1,\n",
       " 'colsample_bytree': 1,\n",
       " 'enable_categorical': False,\n",
       " 'gamma': 0,\n",
       " 'gpu_id': -1,\n",
       " 'importance_type': None,\n",
       " 'interaction_constraints': '',\n",
       " 'learning_rate': 0.300000012,\n",
       " 'max_delta_step': 0,\n",
       " 'max_depth': 6,\n",
       " 'min_child_weight': 1,\n",
       " 'missing': nan,\n",
       " 'monotone_constraints': '()',\n",
       " 'n_estimators': 10,\n",
       " 'n_jobs': 16,\n",
       " 'num_parallel_tree': 1,\n",
       " 'predictor': 'auto',\n",
       " 'random_state': 123,\n",
       " 'reg_alpha': 0,\n",
       " 'reg_lambda': 1,\n",
       " 'scale_pos_weight': 1,\n",
       " 'subsample': 1,\n",
       " 'tree_method': 'exact',\n",
       " 'validate_parameters': 1,\n",
       " 'verbosity': None,\n",
       " 'seed': 123}"
      ]
     },
     "execution_count": 63,
     "metadata": {},
     "output_type": "execute_result"
    }
   ],
   "source": [
    "# Classifier Name --> xgb_r\n",
    "xgb_r = xg.XGBRegressor(objective ='reg:linear', n_estimators = 10, seed = 123)\n",
    "xgb_r.fit(x_train_scaled, y_train)\n",
    "\n",
    "# Predicton\n",
    "xg_pred_train = xgb_r.predict(x_train_scaled)\n",
    "xg_pred_test = xgb_r.predict(x_test_scaled)\n",
    "\n",
    "# In Sample and Out of Sample Error [MSE and R^2]\n",
    "print('MSE train: %.4f, test: %.4f' % (mean_squared_error(y_train, xg_pred_train), mean_squared_error(y_test, xg_pred_test)))\n",
    "print('R^2 train: %.4f, test: %.4f' % (r2_score(y_train, xg_pred_train), r2_score(y_test, xg_pred_test)))\n",
    "\n",
    "xgb_r.get_params()\n"
   ]
  },
  {
   "cell_type": "code",
   "execution_count": 64,
   "metadata": {},
   "outputs": [
    {
     "data": {
      "image/png": "[encoded data removed]",
      "text/plain": [
       "<Figure size 800x550 with 1 Axes>"
      ]
     },
     "metadata": {},
     "output_type": "display_data"
    },
    {
     "data": {
      "text/plain": [
       "<AxesSubplot:title={'center':'Learning Curve for XGBRegressor'}, xlabel='Training Instances', ylabel='Score'>"
      ]
     },
     "execution_count": 64,
     "metadata": {},
     "output_type": "execute_result"
    }
   ],
   "source": [
    "from yellowbrick.datasets import load_energy\n",
    "from yellowbrick.model_selection import LearningCurve\n",
    "\n",
    "# Instantiate the regression model and visualizer\n",
    "visualizer = LearningCurve(xgb_r, scoring='r2')\n",
    "\n",
    "visualizer.fit(x_train_scaled, y_train_vel.ravel())        # Fit the data to the visualizer\n",
    "visualizer.show()           # Finalize and render the figure"
   ]
  },
  {
   "attachments": {},
   "cell_type": "markdown",
   "metadata": {},
   "source": [
    "### Tune parameters "
   ]
  },
  {
   "cell_type": "code",
   "execution_count": 65,
   "metadata": {},
   "outputs": [],
   "source": [
    "# parameter dictionary\n",
    "\n",
    "# params = {\n",
    "#     \"learning_rate\" : [0.3, 0.325, 0.35],\n",
    "#     \"max_depth\" : [4,5,6,7],\n",
    "#     \"n_estimators\": [8,10,12],\n",
    "# }\n",
    "\n",
    "params = {\"max_depth\" : [ 4,6,8,10,25],\n",
    "        \"n_estimators\": [2,4,6,8,10,12,20],\n",
    "        \"learning_rate\" : [0.05,0.10,0.15,0.20,0.25,0.30, 0.40, 0.50]\n",
    "        }"
   ]
  },
  {
   "cell_type": "code",
   "execution_count": 66,
   "metadata": {},
   "outputs": [
    {
     "name": "stdout",
     "output_type": "stream",
     "text": [
      "[19:35:30] WARNING: c:\\windows\\temp\\abs_557yfx631l\\croots\\recipe\\xgboost-split_1659548953302\\work\\src\\objective\\regression_obj.cu:188: reg:linear is now deprecated in favor of reg:squarederror.\n",
      " \n"
     ]
    }
   ],
   "source": [
    "best_xgbr = RandomizedSearchCV(estimator=xgb_r, param_distributions=params, n_jobs=-1, cv=5, scoring='r2')\n",
    "best_xgbr.fit(x_val_scaled, y_val.ravel())\n",
    "print(\" \")\n"
   ]
  },
  {
   "cell_type": "code",
   "execution_count": 67,
   "metadata": {},
   "outputs": [
    {
     "name": "stdout",
     "output_type": "stream",
     "text": [
      "best score: 0.8264914889342977\n",
      "best_param:\n"
     ]
    },
    {
     "data": {
      "text/plain": [
       "{'n_estimators': 20, 'max_depth': 8, 'learning_rate': 0.3}"
      ]
     },
     "execution_count": 67,
     "metadata": {},
     "output_type": "execute_result"
    }
   ],
   "source": [
    "print(\"best score:\", best_xgbr.best_score_)\n",
    "print(\"best_param:\")\n",
    "best_xgbr.best_params_"
   ]
  },
  {
   "cell_type": "code",
   "execution_count": 68,
   "metadata": {},
   "outputs": [
    {
     "name": "stdout",
     "output_type": "stream",
     "text": [
      "MSE train: 0.0190, test: 0.0470\n",
      "R^2 train: 0.8402, test: 0.6070\n"
     ]
    },
    {
     "data": {
      "text/plain": [
       "{'cv': 5,\n",
       " 'error_score': nan,\n",
       " 'estimator__objective': 'reg:linear',\n",
       " 'estimator__base_score': 0.5,\n",
       " 'estimator__booster': 'gbtree',\n",
       " 'estimator__colsample_bylevel': 1,\n",
       " 'estimator__colsample_bynode': 1,\n",
       " 'estimator__colsample_bytree': 1,\n",
       " 'estimator__enable_categorical': False,\n",
       " 'estimator__gamma': 0,\n",
       " 'estimator__gpu_id': -1,\n",
       " 'estimator__importance_type': None,\n",
       " 'estimator__interaction_constraints': '',\n",
       " 'estimator__learning_rate': 0.300000012,\n",
       " 'estimator__max_delta_step': 0,\n",
       " 'estimator__max_depth': 6,\n",
       " 'estimator__min_child_weight': 1,\n",
       " 'estimator__missing': nan,\n",
       " 'estimator__monotone_constraints': '()',\n",
       " 'estimator__n_estimators': 10,\n",
       " 'estimator__n_jobs': 16,\n",
       " 'estimator__num_parallel_tree': 1,\n",
       " 'estimator__predictor': 'auto',\n",
       " 'estimator__random_state': 123,\n",
       " 'estimator__reg_alpha': 0,\n",
       " 'estimator__reg_lambda': 1,\n",
       " 'estimator__scale_pos_weight': 1,\n",
       " 'estimator__subsample': 1,\n",
       " 'estimator__tree_method': 'exact',\n",
       " 'estimator__validate_parameters': 1,\n",
       " 'estimator__verbosity': None,\n",
       " 'estimator__seed': 123,\n",
       " 'estimator': XGBRegressor(base_score=0.5, booster='gbtree', colsample_bylevel=1,\n",
       "              colsample_bynode=1, colsample_bytree=1, enable_categorical=False,\n",
       "              gamma=0, gpu_id=-1, importance_type=None,\n",
       "              interaction_constraints='', learning_rate=0.300000012,\n",
       "              max_delta_step=0, max_depth=6, min_child_weight=1, missing=nan,\n",
       "              monotone_constraints='()', n_estimators=10, n_jobs=16,\n",
       "              num_parallel_tree=1, objective='reg:linear', predictor='auto',\n",
       "              random_state=123, reg_alpha=0, reg_lambda=1, scale_pos_weight=1,\n",
       "              seed=123, subsample=1, tree_method='exact', validate_parameters=1,\n",
       "              verbosity=None),\n",
       " 'n_iter': 10,\n",
       " 'n_jobs': -1,\n",
       " 'param_distributions': {'max_depth': [4, 6, 8, 10, 25],\n",
       "  'n_estimators': [2, 4, 6, 8, 10, 12, 20],\n",
       "  'learning_rate': [0.05, 0.1, 0.15, 0.2, 0.25, 0.3, 0.4, 0.5]},\n",
       " 'pre_dispatch': '2*n_jobs',\n",
       " 'random_state': None,\n",
       " 'refit': True,\n",
       " 'return_train_score': False,\n",
       " 'scoring': 'r2',\n",
       " 'verbose': 0}"
      ]
     },
     "execution_count": 68,
     "metadata": {},
     "output_type": "execute_result"
    }
   ],
   "source": [
    "# Prediction\n",
    "y_pred_lr_train = best_xgbr.predict(x_train_scaled)\n",
    "y_pred_lr_test = best_xgbr.predict(x_test_scaled)\n",
    "\n",
    "# In Sample and Out of Sample Error [MSE and R^2]\n",
    "print('MSE train: %.4f, test: %.4f' % (mean_squared_error(y_train, y_pred_lr_train), mean_squared_error(y_test, y_pred_lr_test)))\n",
    "print('R^2 train: %.4f, test: %.4f' % (r2_score(y_train, y_pred_lr_train), r2_score(y_test, y_pred_lr_test)))\n",
    "\n",
    "best_xgbr.get_params()\n"
   ]
  }
 ],
 "metadata": {
  "kernelspec": {
   "display_name": "ml_env",
   "language": "python",
   "name": "python3"
  },
  "language_info": {
   "codemirror_mode": {
    "name": "ipython",
    "version": 3
   },
   "file_extension": ".py",
   "mimetype": "text/x-python",
   "name": "python",
   "nbconvert_exporter": "python",
   "pygments_lexer": "ipython3",
   "version": "3.10.4"
  },
  "orig_nbformat": 4,
  "vscode": {
   "interpreter": {
    "hash": "9e9be2e68cb295c361abd1a53a85653cf92a0e7d31e816aee4dac2509103d9a5"
   }
  }
 },
 "nbformat": 4,
 "nbformat_minor": 2
}
