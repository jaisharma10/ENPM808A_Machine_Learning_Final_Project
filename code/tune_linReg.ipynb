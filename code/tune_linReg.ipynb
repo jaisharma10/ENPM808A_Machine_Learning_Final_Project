{
 "cells": [
  {
   "attachments": {},
   "cell_type": "markdown",
   "metadata": {},
   "source": [
    "## Import Libraries "
   ]
  },
  {
   "cell_type": "code",
   "execution_count": 1,
   "metadata": {},
   "outputs": [],
   "source": [
    "import numpy as np\n",
    "import pandas as pd\n",
    "import matplotlib.pyplot as plt"
   ]
  },
  {
   "cell_type": "code",
   "execution_count": 2,
   "metadata": {},
   "outputs": [
    {
     "name": "stderr",
     "output_type": "stream",
     "text": [
      "c:\\Users\\Jai Sharma\\CondaFiles\\envs\\ml_env\\lib\\site-packages\\scipy\\__init__.py:146: UserWarning: A NumPy version >=1.16.5 and <1.23.0 is required for this version of SciPy (detected version 1.23.1\n",
      "  warnings.warn(f\"A NumPy version >={np_minversion} and <{np_maxversion}\"\n"
     ]
    }
   ],
   "source": [
    "from sklearn.utils import shuffle\n",
    "from sklearn.preprocessing import StandardScaler\n",
    "from sklearn.metrics import mean_squared_error, mean_absolute_error\n",
    "from sklearn.metrics import r2_score"
   ]
  },
  {
   "attachments": {},
   "cell_type": "markdown",
   "metadata": {},
   "source": [
    "## Training Data "
   ]
  },
  {
   "cell_type": "code",
   "execution_count": 3,
   "metadata": {},
   "outputs": [
    {
     "name": "stdout",
     "output_type": "stream",
     "text": [
      " laser features shape -->  (129683, 15)\n",
      " training features shape -->  (129683, 23)\n",
      " training translation velocity predictions shape -->  (129683, 1)\n",
      " training angular velocity predictions shape -->  (129683, 1)\n"
     ]
    }
   ],
   "source": [
    "# Import Training Data Set\n",
    "df_train_1 = pd.read_csv(r'Data\\Train\\Data_illustrated_CSV.csv')\n",
    "df_train_2 = pd.read_csv(r'Data\\Train\\corridor_CSV\\July22_51.csv')                  \n",
    "df_train_3 = pd.read_csv(r'Data\\Train\\corridor_CSV\\July22_59.csv')    \n",
    "df_train_4 = pd.read_csv(r'Data\\Train\\Open_Box_CSV_files\\Aug14_Box_2.csv')    \n",
    "df_train_5 = pd.read_csv(r'Data\\Train\\Open_Box_CSV_files\\Aug14_Box_4.csv')    \n",
    "df_train_6 = pd.read_csv(r'Data\\Train\\Open_Box_CSV_files\\Aug14_Box_7.csv')    \n",
    "df_train_7 = pd.read_csv(r'Data\\Train\\Open_Box_CSV_files\\Aug14_Box_8.csv')    \n",
    "df_train_8 = pd.read_csv(r'Data\\Train\\Open_Box_CSV_files\\Aug14_Box_9.csv')    \n",
    "df_train_9 = pd.read_csv(r'Data\\Train\\special_CSV\\Aug16_Box_special_1.csv')    \n",
    "\n",
    "\n",
    "# Combine Training Set                 \n",
    "df_train_1.columns = df_train_2.columns = df_train_3.columns = df_train_4.columns = df_train_5.columns = df_train_6.columns = df_train_7.columns = df_train_8.columns = df_train_9.columns \n",
    "combine = [df_train_1, df_train_2, df_train_3, df_train_4, df_train_5, df_train_6, df_train_7, df_train_8, df_train_9]\n",
    "df_training = pd.concat(combine, axis=0, ignore_index=True)\n",
    "\n",
    "# Shuffle Dataset\n",
    "df_training = shuffle(df_training)\n",
    "\n",
    "# Reduce Laser Data\n",
    "laser_df = pd.DataFrame()\n",
    "bins_sz = 18*4\n",
    "bin_list = np.arange(0,1080,bins_sz)\n",
    "for c in bin_list:    # loop every 40 columns\n",
    "    laser_df[c/bins_sz] = df_training.iloc[:,c:c+bins_sz].astype(float).mean(axis=1)\n",
    "laser_df.shape\n",
    "\n",
    "# Extract Useful Features [laser, local goal, pose]\n",
    "laser = np.array(laser_df)  \n",
    "local_goal = np.array(df_training)[:,1084:1088]                  \n",
    "pose = np.array(df_training)[:,1088:1092]                  \n",
    "features = np.concatenate((laser,local_goal,pose), axis=1)\n",
    "\n",
    "# Extract Predictions\n",
    "cmd_vel = np.array(df_training)[:,1092:]    \n",
    "\n",
    "# Initialize Training Set Inputs\n",
    "X_train = features\n",
    "y_train = cmd_vel\n",
    "y_train_vel = cmd_vel[:,0:1]\n",
    "y_train_ang = cmd_vel[:,1:]\n",
    "\n",
    "# Print Training Input Shapes\n",
    "print(\" laser features shape --> \", laser.shape)  \n",
    "print(\" training features shape --> \", X_train.shape)  \n",
    "print(\" training translation velocity predictions shape --> \", y_train_vel.shape)  \n",
    "print(\" training angular velocity predictions shape --> \", y_train_ang.shape) "
   ]
  },
  {
   "attachments": {},
   "cell_type": "markdown",
   "metadata": {},
   "source": [
    "# Testing Data"
   ]
  },
  {
   "cell_type": "code",
   "execution_count": 4,
   "metadata": {},
   "outputs": [
    {
     "name": "stdout",
     "output_type": "stream",
     "text": [
      " test features shape -->  (25446, 23)\n",
      " test translation velocity predictions shape -->  (25446, 1)\n",
      " test angular velocity predictions shape -->  (25446, 1)\n"
     ]
    }
   ],
   "source": [
    "# Testing Data Set\n",
    "df_test_1 = pd.read_csv(r'Data\\Test\\Aug14_Box_g1.csv')\n",
    "df_test_2 = pd.read_csv(r'Data\\Test\\July22_15.csv')\n",
    "df_test_3 = pd.read_csv(r'Data\\Test\\July22_49.csv')\n",
    "df_test_4 = pd.read_csv(r'Data\\Test\\July22_76.csv')\n",
    "\n",
    "# pick test set\n",
    "df_test = df_test_2\n",
    "\n",
    "# Reduce Laser Data\n",
    "laser_df_test = pd.DataFrame()\n",
    "for c in bin_list:    # loop every 40 columns\n",
    "    laser_df_test[c/bins_sz] = df_test.iloc[:,c:c+bins_sz].astype(float).mean(axis=1)\n",
    "laser_df_test.shape\n",
    "                  \n",
    "# Extract Useful Features [laser, local goal, pose]\n",
    "laser = np.array(laser_df_test)  \n",
    "local_goal = np.array(df_test)[:,1084:1088]                  \n",
    "pose = np.array(df_test)[:,1088:1092]                  \n",
    "features = np.concatenate((laser,local_goal,pose), axis=1)\n",
    "\n",
    "# Extract Predictions\n",
    "cmd_vel = np.array(df_test)[:,1092:]  \n",
    "\n",
    "# Initialize Testing Set Inputs\n",
    "X_test = features\n",
    "y_test = cmd_vel\n",
    "y_test_vel = cmd_vel[:,0:1]\n",
    "y_test_ang = cmd_vel[:,1:]\n",
    "\n",
    "# Print Testing Input Shapes\n",
    "print(\" test features shape --> \", X_test.shape)  \n",
    "print(\" test translation velocity predictions shape --> \", y_test_vel.shape)  \n",
    "print(\" test angular velocity predictions shape --> \", y_test_ang.shape) "
   ]
  },
  {
   "attachments": {},
   "cell_type": "markdown",
   "metadata": {},
   "source": [
    "## Scale Training and Testing Data"
   ]
  },
  {
   "cell_type": "code",
   "execution_count": 5,
   "metadata": {},
   "outputs": [],
   "source": [
    "scale = StandardScaler()\n",
    "scale.fit(X_train)\n",
    "\n",
    "x_train_scaled = scale.transform(X_train)\n",
    "x_test_scaled =  scale.transform(X_test)"
   ]
  },
  {
   "attachments": {},
   "cell_type": "markdown",
   "metadata": {},
   "source": [
    "# Linear Regression Model"
   ]
  },
  {
   "cell_type": "code",
   "execution_count": 6,
   "metadata": {},
   "outputs": [],
   "source": [
    "from sklearn import linear_model"
   ]
  },
  {
   "attachments": {},
   "cell_type": "markdown",
   "metadata": {},
   "source": [
    "Train Model"
   ]
  },
  {
   "cell_type": "code",
   "execution_count": 7,
   "metadata": {},
   "outputs": [
    {
     "name": "stdout",
     "output_type": "stream",
     "text": [
      "MSE train: 0.0832, test: 0.0811\n",
      "R^2 train: 0.1581, test: 0.1165\n"
     ]
    }
   ],
   "source": [
    "# Training\n",
    "lr_model = linear_model.LinearRegression()\n",
    "lr_model.fit(x_train_scaled, y_train)\n",
    "\n",
    "# Prediction\n",
    "y_pred_lr_train = lr_model.predict(x_train_scaled)\n",
    "y_pred_lr_test = lr_model.predict(x_test_scaled)\n",
    "\n",
    "# In Sample and Out of Sample Error [MSE and R^2]\n",
    "print('MSE train: %.4f, test: %.4f' % (mean_squared_error(y_train, y_pred_lr_train, squared = True), mean_squared_error(y_test, y_pred_lr_test, squared = True)))\n",
    "print('R^2 train: %.4f, test: %.4f' % (r2_score(y_train, y_pred_lr_train), r2_score(y_test, y_pred_lr_test)))"
   ]
  },
  {
   "attachments": {},
   "cell_type": "markdown",
   "metadata": {},
   "source": [
    "Training Curves"
   ]
  },
  {
   "cell_type": "code",
   "execution_count": 8,
   "metadata": {},
   "outputs": [
    {
     "data": {
      "image/png": "[encoded data removed]",
      "text/plain": [
       "<Figure size 640x480 with 1 Axes>"
      ]
     },
     "metadata": {},
     "output_type": "display_data"
    }
   ],
   "source": [
    "\n",
    "from sklearn.model_selection import learning_curve\n",
    "\n",
    "train_sizes, train_scores, test_scores = learning_curve(estimator=lr_model, X=x_train_scaled, y=y_train,\n",
    "                                                       cv=10, train_sizes=np.linspace(0.1, 1.0, 10, 100),\n",
    "                                                       n_jobs=1)\n",
    "# Calculate training and test mean and std\n",
    "train_mean = np.mean(train_scores, axis=1)\n",
    "train_std = np.std(train_scores, axis=1)\n",
    "test_mean = np.mean(test_scores, axis=1)\n",
    "test_std = np.std(test_scores, axis=1)\n",
    "\n",
    "# Plot the learning curve\n",
    "plt.plot(train_sizes, train_mean, color='blue', marker='o', markersize=5, label='Training Accuracy')\n",
    "plt.plot(train_sizes, test_mean, color='green', marker='+', markersize=5, linestyle='--', label='Validation Accuracy')\n",
    "plt.title('Learning Curve')\n",
    "plt.xlabel('Training Data Size')\n",
    "plt.ylabel('Model accuracy')\n",
    "plt.grid()\n",
    "plt.legend(loc='lower right')\n",
    "plt.show()"
   ]
  },
  {
   "attachments": {},
   "cell_type": "markdown",
   "metadata": {},
   "source": [
    "Tune Hyperparameters"
   ]
  },
  {
   "cell_type": "code",
   "execution_count": 9,
   "metadata": {},
   "outputs": [],
   "source": [
    "# regularization\n",
    "\n",
    "# from scipy.stats import loguniform\n",
    "# from sklearn.model_selection import RepeatedKFold\n",
    "# from sklearn.model_selection import RandomizedSearchCV\n",
    "\n",
    "# cv = RepeatedKFold(n_splits=10, n_repeats=3, random_state=1)\n",
    "# # define search space\n",
    "# space = dict()\n",
    "# # space['solver'] = ['svd', 'cholesky', 'lsqr', 'sag']\n",
    "# # space['alpha'] = loguniform(1e-5, 100)\n",
    "# space['fit_intercept'] = [True, False]\n",
    "# space['normalize'] = [True, False]\n",
    "# # define search\n",
    "# search = RandomizedSearchCV(lr_model, space, n_iter=500, scoring='neg_mean_absolute_error', n_jobs=-1, cv=cv, random_state=1)\n",
    "# # execute search\n",
    "# result = search.fit(x_train_scaled, y_train)\n",
    "# # summarize result\n",
    "# print('Best Score: %s' % result.best_score_)\n",
    "# print('Best Hyperparameters: %s' % result.best_params_)\n",
    "\n",
    "\n"
   ]
  },
  {
   "cell_type": "code",
   "execution_count": 16,
   "metadata": {},
   "outputs": [
    {
     "name": "stdout",
     "output_type": "stream",
     "text": [
      "[[ 8.76233889  3.16335972  3.19518889 ...  5.1473     -0.63703\n",
      "   0.77084   ]\n",
      " [11.89475833 12.55755556  5.12194583 ...  5.1572      0.233\n",
      "   0.97248   ]\n",
      " [ 5.54885     5.19215556  5.38311528 ...  3.8219      0.13533\n",
      "   0.9908    ]\n",
      " ...\n",
      " [ 9.7915375  14.26610972  7.26603194 ...  4.3161      0.71099\n",
      "   0.7032    ]\n",
      " [11.79617639  4.81558194  3.0388     ... -5.3201      0.92256\n",
      "  -0.38585   ]\n",
      " [ 2.74502639  3.082175    5.35197778 ... -5.333      -0.36806\n",
      "   0.9298    ]]\n"
     ]
    }
   ],
   "source": [
    "\n",
    "y_predInverse = scale.inverse_transform(x_train_scaled)\n",
    "# y_testInverse = scale.inverse_transform(y_test)"
   ]
  },
  {
   "cell_type": "code",
   "execution_count": null,
   "metadata": {},
   "outputs": [],
   "source": []
  }
 ],
 "metadata": {
  "kernelspec": {
   "display_name": "ml_env",
   "language": "python",
   "name": "python3"
  },
  "language_info": {
   "codemirror_mode": {
    "name": "ipython",
    "version": 3
   },
   "file_extension": ".py",
   "mimetype": "text/x-python",
   "name": "python",
   "nbconvert_exporter": "python",
   "pygments_lexer": "ipython3",
   "version": "3.10.4 | packaged by conda-forge | (main, Mar 30 2022, 08:38:02) [MSC v.1916 64 bit (AMD64)]"
  },
  "orig_nbformat": 4,
  "vscode": {
   "interpreter": {
    "hash": "9e9be2e68cb295c361abd1a53a85653cf92a0e7d31e816aee4dac2509103d9a5"
   }
  }
 },
 "nbformat": 4,
 "nbformat_minor": 2
}
